{
 "cells": [
  {
   "cell_type": "code",
   "execution_count": 143,
   "metadata": {},
   "outputs": [],
   "source": [
    "# Skip Gram \n",
    "import os\n",
    "import string\n",
    "import nltk\n",
    "import re\n",
    "\n",
    "import gensim \n",
    "from gensim.test.utils import common_texts, get_tmpfile\n",
    "from gensim.models import Word2Vec\n"
   ]
  },
  {
   "cell_type": "code",
   "execution_count": 144,
   "metadata": {},
   "outputs": [],
   "source": [
    "dic={'home security system':'homesecuritysystem',\\\n",
    "     'security system':'securitysystem',\\\n",
    "     'home security':'homesecurity',\n",
    "     'set top box':'settopbox',\\\n",
    "     'xfinity mobile':'xfinitymobile',\\\n",
    "     'infinity mobile':'xfinitymobile',\\\n",
    "     'land line':'landline',\\\n",
    "     'home phone':'homephone',\\\n",
    "     'hot spot':'hotspot',\\\n",
    "     'home phones':'homephone',\\\n",
    "     'quad play':'quadplay',\\\n",
    "     'double play':'doubleplay',\\\n",
    "     'triple play':'tripleplay',\\\n",
    "     'single play':'singleplay',\\\n",
    "     'performance pro':'performancepro',\\\n",
    "     'performance plus':'performanceplus',\\\n",
    "     'performance starter':'performancestarter',\\\n",
    "     'amazon prime': 'amazonprime',\\\n",
    "     'sling tv':'slingtv',\\\n",
    "     'direct tv':'directtv',\\\n",
    "     'high definition':'highdefinition',\\\n",
    "     'megabyte':'megabytes',\\\n",
    "     'megabits':'megabytes',\\\n",
    "     'premium channel':'premiumchannel',\\\n",
    "     'show time':'showtime',\\\n",
    "     'mobile number':'mobilenumber',\\\n",
    "     'mobile phone':'mobilephone',\\\n",
    "    }\n",
    "\n",
    "more_stops=['I','say','hello','na','gon','get','uh','right','guy','still','come','say','mean','um','oh','yes','bye','great','yeah','no','sorry','ok','okay','thank','like','alright','know']\n",
    "stop_words = set(nltk.corpus.stopwords.words('english')+more_stops)\n",
    "\n",
    "def replace_all(text, dic):\n",
    "    for i, j in dic.items():\n",
    "        src_str  = re.compile(i, re.IGNORECASE)\n",
    "        text = src_str.sub(j,text)\n",
    "    return text"
   ]
  },
  {
   "cell_type": "code",
   "execution_count": 145,
   "metadata": {},
   "outputs": [],
   "source": [
    "all_transcripts = []\n",
    "audio_directory = \"/Users/mmanle240/Downloads/nlp_git/Audio_Transcription/Amazon/Transcripts2\"\n",
    "for filename in os.listdir(audio_directory): \n",
    "    if filename.endswith(\".txt\"):\n",
    "        transcript_file_path = audio_directory + \"/\" + filename\n",
    "        transcript_file = open(transcript_file_path, \"r\")\n",
    "        transcript_contents = transcript_file.read().lower() \n",
    "        transcript_contents = transcript_contents.translate(str.maketrans('', '', string.punctuation))\n",
    "        transcript_contents = replace_all(transcript_contents, dic)\n",
    "        transcript_split = transcript_contents.split()\n",
    "        all_transcripts.append(transcript_split)"
   ]
  },
  {
   "cell_type": "code",
   "execution_count": 146,
   "metadata": {},
   "outputs": [],
   "source": [
    "model = gensim.models.Word2Vec(all_transcripts, min_count = 1, size = 100, \n",
    "                                             window = 7, sg = 1) "
   ]
  },
  {
   "cell_type": "code",
   "execution_count": 161,
   "metadata": {},
   "outputs": [
    {
     "data": {
      "text/plain": [
       "[('level', 0.9924846887588501),\n",
       " ('secondary', 0.9902586340904236),\n",
       " ('streaming', 0.9893575310707092),\n",
       " ('current', 0.986262321472168),\n",
       " ('television', 0.9852985143661499),\n",
       " ('without', 0.9850740432739258),\n",
       " ('actual', 0.9849698543548584),\n",
       " ('center', 0.9846102595329285),\n",
       " ('sell', 0.9837470054626465),\n",
       " ('guide', 0.9837464094161987)]"
      ]
     },
     "execution_count": 161,
     "metadata": {},
     "output_type": "execute_result"
    }
   ],
   "source": [
    "# HSD\n",
    "model.wv.most_similar(positive=['speed','internet','megabytes',\n",
    "                                'modem','signal','wifi',\n",
    "                                'network','router'])"
   ]
  },
  {
   "cell_type": "code",
   "execution_count": 163,
   "metadata": {},
   "outputs": [
    {
     "data": {
      "text/plain": [
       "[('basic', 0.9766425490379333),\n",
       " ('main', 0.9598020315170288),\n",
       " ('mlb', 0.9590128660202026),\n",
       " ('promotions', 0.9585550427436829),\n",
       " ('gives', 0.9560632705688477),\n",
       " ('secondary', 0.954118013381958),\n",
       " ('games', 0.9537956714630127),\n",
       " ('comes', 0.9535406827926636),\n",
       " ('movie', 0.9533960223197937),\n",
       " ('streaming', 0.9533472061157227)]"
      ]
     },
     "execution_count": 163,
     "metadata": {},
     "output_type": "execute_result"
    }
   ],
   "source": [
    "# Video\n",
    "model.wv.most_similar(positive=['channel','channels','dvr','box','boxes'])"
   ]
  },
  {
   "cell_type": "code",
   "execution_count": 164,
   "metadata": {},
   "outputs": [
    {
     "data": {
      "text/plain": [
       "[('iphone', 0.9935689568519592),\n",
       " ('value', 0.9930007457733154),\n",
       " ('restore', 0.9920864701271057),\n",
       " ('supervise', 0.9920796155929565),\n",
       " ('completely', 0.9919997453689575),\n",
       " ('unless', 0.9916998147964478),\n",
       " ('woman', 0.9916856288909912),\n",
       " ('rarely', 0.991637110710144),\n",
       " ('customize', 0.9915562272071838),\n",
       " ('forfeit', 0.9915017485618591)]"
      ]
     },
     "execution_count": 164,
     "metadata": {},
     "output_type": "execute_result"
    }
   ],
   "source": [
    "# CDV\n",
    "model.wv.most_similar(positive=['landline','homephone'])"
   ]
  },
  {
   "cell_type": "code",
   "execution_count": 166,
   "metadata": {},
   "outputs": [
    {
     "data": {
      "text/plain": [
       "[('bizarre', 0.9982364177703857),\n",
       " ('reconnect', 0.9978070855140686),\n",
       " ('expense', 0.9977335333824158),\n",
       " ('utilize', 0.9975861310958862),\n",
       " ('immediately', 0.9975694417953491),\n",
       " ('fi', 0.9974895715713501),\n",
       " ('spot', 0.9974567890167236),\n",
       " ('towers', 0.9974318742752075),\n",
       " ('surrounding', 0.9973719716072083),\n",
       " ('peremptorily', 0.9973496198654175)]"
      ]
     },
     "execution_count": 166,
     "metadata": {},
     "output_type": "execute_result"
    }
   ],
   "source": [
    "# XM\n",
    "model.wv.most_similar(positive=['mobile','mobilephone','lines','hotspot','hotspots'])"
   ]
  },
  {
   "cell_type": "code",
   "execution_count": 167,
   "metadata": {},
   "outputs": [
    {
     "data": {
      "text/plain": [
       "[('touch', 0.9985935688018799),\n",
       " ('passage', 0.9985264539718628),\n",
       " ('closer', 0.9983029961585999),\n",
       " ('birthday', 0.9982808232307434),\n",
       " ('places', 0.9982396364212036),\n",
       " ('catches', 0.9981801509857178),\n",
       " ('story', 0.9981057047843933),\n",
       " ('spots', 0.9979884624481201),\n",
       " ('removed', 0.9979748725891113),\n",
       " ('ordered', 0.9979649782180786)]"
      ]
     },
     "execution_count": 167,
     "metadata": {},
     "output_type": "execute_result"
    }
   ],
   "source": [
    "# XH\n",
    "model.wv.most_similar(positive=['securitysystem','homesecuritysystem','homesecurity','camera','cameras'])"
   ]
  },
  {
   "cell_type": "code",
   "execution_count": 168,
   "metadata": {},
   "outputs": [
    {
     "data": {
      "text/plain": [
       "[('disconnect', 0.9731203317642212),\n",
       " ('putting', 0.9654570817947388),\n",
       " ('picks', 0.9636081457138062),\n",
       " ('current', 0.9616644382476807),\n",
       " ('local', 0.9601227641105652),\n",
       " ('allows', 0.9564973711967468),\n",
       " ('remain', 0.9526693820953369),\n",
       " ('unlimited', 0.9523325562477112),\n",
       " ('latino', 0.9517766237258911),\n",
       " ('xfinitymobile', 0.9517443180084229)]"
      ]
     },
     "execution_count": 168,
     "metadata": {},
     "output_type": "execute_result"
    }
   ],
   "source": [
    "# Stream\n",
    "model.wv.most_similar(positive=['streaming','stream'])"
   ]
  },
  {
   "cell_type": "code",
   "execution_count": 171,
   "metadata": {},
   "outputs": [
    {
     "data": {
      "text/plain": [
       "[('cartoons', 0.9967899322509766),\n",
       " ('bed', 0.9965178370475769),\n",
       " ('necessarily', 0.9960169792175293),\n",
       " ('determine', 0.9960074424743652),\n",
       " ('dirty', 0.9959899187088013),\n",
       " ('securitysystem', 0.9957780241966248),\n",
       " ('disability', 0.9957585334777832),\n",
       " ('pero', 0.9956356287002563),\n",
       " ('learning', 0.9956124424934387),\n",
       " ('expanding', 0.9955854415893555)]"
      ]
     },
     "execution_count": 171,
     "metadata": {},
     "output_type": "execute_result"
    }
   ],
   "source": [
    "# OTT\n",
    "model.wv.most_similar(positive=['netflix','roku'])"
   ]
  },
  {
   "cell_type": "code",
   "execution_count": 175,
   "metadata": {},
   "outputs": [
    {
     "data": {
      "text/plain": [
       "[('backs', 0.9925712943077087),\n",
       " ('self', 0.9919439554214478),\n",
       " ('standard', 0.9911869764328003),\n",
       " ('sees', 0.9909759163856506),\n",
       " ('encore', 0.9905652403831482),\n",
       " ('multi', 0.9902921915054321),\n",
       " ('without', 0.9898134469985962),\n",
       " ('ability', 0.9891883730888367),\n",
       " ('mostly', 0.989034116268158),\n",
       " ('latino', 0.9889456629753113)]"
      ]
     },
     "execution_count": 175,
     "metadata": {},
     "output_type": "execute_result"
    }
   ],
   "source": [
    "# Hsd Tier\n",
    "model.wv.most_similar(positive=['blast','performance','performancestarter'])"
   ]
  },
  {
   "cell_type": "code",
   "execution_count": 177,
   "metadata": {},
   "outputs": [
    {
     "data": {
      "text/plain": [
       "[('however', 0.9925232529640198),\n",
       " ('honestly', 0.9924315214157104),\n",
       " ('mostly', 0.9916404485702515),\n",
       " ('initially', 0.9912596940994263),\n",
       " ('hbos', 0.9911795258522034),\n",
       " ('without', 0.99006587266922),\n",
       " ('cheaper', 0.989855170249939),\n",
       " ('drop', 0.9896901845932007),\n",
       " ('planes', 0.9895820021629333),\n",
       " ('baseball', 0.9890578389167786)]"
      ]
     },
     "execution_count": 177,
     "metadata": {},
     "output_type": "execute_result"
    }
   ],
   "source": [
    "# Premium Channels\n",
    "model.wv.most_similar(positive=['premiumchannel','hbo','espn','showtime','cinemax'])"
   ]
  },
  {
   "cell_type": "code",
   "execution_count": 178,
   "metadata": {},
   "outputs": [
    {
     "data": {
      "text/plain": [
       "[('tripleplay', 0.9945054650306702),\n",
       " ('adapter', 0.9874348640441895),\n",
       " ('blast', 0.9867477416992188),\n",
       " ('performance', 0.9855093955993652),\n",
       " ('extreme', 0.9849770069122314),\n",
       " ('megabytess', 0.9836522936820984),\n",
       " ('term', 0.9835935235023499),\n",
       " ('qualify', 0.982444167137146),\n",
       " ('self', 0.9814633131027222),\n",
       " ('pricing', 0.9814311861991882)]"
      ]
     },
     "execution_count": 178,
     "metadata": {},
     "output_type": "execute_result"
    }
   ],
   "source": [
    "# Video Tier \n",
    "model.wv.most_similar(positive=['latino','dvr','hd','highdefinition'])\n"
   ]
  },
  {
   "cell_type": "code",
   "execution_count": 179,
   "metadata": {},
   "outputs": [
    {
     "data": {
      "text/plain": [
       "[('bundles', 0.9899170398712158),\n",
       " ('performance', 0.9896278381347656),\n",
       " ('megabytess', 0.9895786046981812),\n",
       " ('base', 0.9895282983779907),\n",
       " ('previously', 0.9890087842941284),\n",
       " ('highdefinition', 0.9886037111282349),\n",
       " ('starts', 0.9874240159988403),\n",
       " ('qualify', 0.9869353771209717),\n",
       " ('self', 0.9866290092468262),\n",
       " ('offering', 0.9861609935760498)]"
      ]
     },
     "execution_count": 179,
     "metadata": {},
     "output_type": "execute_result"
    }
   ],
   "source": [
    "# TP\n",
    "model.wv.most_similar(positive=['tripleplay','triple'])"
   ]
  },
  {
   "cell_type": "code",
   "execution_count": 180,
   "metadata": {},
   "outputs": [
    {
     "data": {
      "text/plain": [
       "[('green', 0.9783374071121216),\n",
       " ('excuse', 0.9777940511703491),\n",
       " ('both', 0.975964367389679),\n",
       " ('door', 0.9754284024238586),\n",
       " ('october', 0.9744422435760498),\n",
       " ('minimum', 0.9727133512496948),\n",
       " ('youd', 0.9721555709838867),\n",
       " ('monday', 0.9713249206542969),\n",
       " ('took', 0.9713119268417358),\n",
       " ('future', 0.9703907370567322)]"
      ]
     },
     "execution_count": 180,
     "metadata": {},
     "output_type": "execute_result"
    }
   ],
   "source": [
    "# DP\n",
    "model.wv.most_similar(positive=['doubleplay','double'])"
   ]
  },
  {
   "cell_type": "code",
   "execution_count": 183,
   "metadata": {},
   "outputs": [
    {
     "data": {
      "text/plain": [
       "[('ima', 0.998012900352478),\n",
       " ('internets', 0.9977374076843262),\n",
       " ('yankees', 0.99752277135849),\n",
       " ('accent', 0.9972758293151855),\n",
       " ('general', 0.9972731471061707),\n",
       " ('connection', 0.9970465302467346),\n",
       " ('gimme', 0.9970360994338989),\n",
       " ('gain', 0.9969199895858765),\n",
       " ('restore', 0.9968348145484924),\n",
       " ('independent', 0.9967988729476929)]"
      ]
     },
     "execution_count": 183,
     "metadata": {},
     "output_type": "execute_result"
    }
   ],
   "source": [
    "# QP\n",
    "model.wv.most_similar(positive=['quadplay'])"
   ]
  },
  {
   "cell_type": "code",
   "execution_count": 185,
   "metadata": {},
   "outputs": [
    {
     "data": {
      "text/plain": [
       "[('pick', 0.9730587005615234),\n",
       " ('connect', 0.970848023891449),\n",
       " ('either', 0.9679276347160339),\n",
       " ('payment', 0.9676682949066162),\n",
       " ('changes', 0.9673912525177002),\n",
       " ('promotions', 0.9631470441818237),\n",
       " ('guarantee', 0.9595305919647217),\n",
       " ('lineup', 0.9588961005210876),\n",
       " ('needed', 0.9575306177139282),\n",
       " ('discuss', 0.9567776322364807)]"
      ]
     },
     "execution_count": 185,
     "metadata": {},
     "output_type": "execute_result"
    }
   ],
   "source": [
    "# Upgrade\n",
    "model.wv.most_similar(positive=['upgrade'])"
   ]
  },
  {
   "cell_type": "code",
   "execution_count": 194,
   "metadata": {},
   "outputs": [
    {
     "data": {
      "text/plain": [
       "[('bucks', 0.9843271374702454),\n",
       " ('believe', 0.9837309122085571),\n",
       " ('times', 0.9825093746185303),\n",
       " ('looks', 0.977871298789978),\n",
       " ('limited', 0.9754990935325623),\n",
       " ('fall', 0.9742608070373535),\n",
       " ('paid', 0.9738155007362366),\n",
       " ('since', 0.9733328819274902),\n",
       " ('eleven', 0.9731758832931519),\n",
       " ('monday', 0.9724323153495789)]"
      ]
     },
     "execution_count": 194,
     "metadata": {},
     "output_type": "execute_result"
    }
   ],
   "source": [
    "# Approximations\n",
    "model.wv.most_similar(positive=['about', 'around', 'almost', 'between'])"
   ]
  },
  {
   "cell_type": "code",
   "execution_count": 216,
   "metadata": {},
   "outputs": [
    {
     "data": {
      "text/plain": [
       "[('gives', 0.9903610944747925),\n",
       " ('card', 0.987489640712738),\n",
       " ('cost', 0.9804607629776001),\n",
       " ('promotions', 0.9798007011413574),\n",
       " ('packages', 0.9786516427993774),\n",
       " ('level', 0.9785544276237488),\n",
       " ('secondary', 0.9771579504013062),\n",
       " ('save', 0.976134181022644),\n",
       " ('without', 0.9754191637039185),\n",
       " ('prorated', 0.9751393795013428)]"
      ]
     },
     "execution_count": 216,
     "metadata": {},
     "output_type": "execute_result"
    }
   ],
   "source": [
    "# Units \n",
    "model.wv.most_similar(positive=['terabyte', 'channels', 'channel', 'charge', 'credit'])"
   ]
  },
  {
   "cell_type": "code",
   "execution_count": 220,
   "metadata": {},
   "outputs": [
    {
     "name": "stdout",
     "output_type": "stream",
     "text": [
      "('yours', 0.9922319650650024)\n",
      "('instead', 0.9917647838592529)\n",
      "('lowest', 0.9915421605110168)\n",
      "('itself', 0.9912056922912598)\n",
      "('include', 0.9910229444503784)\n",
      "('top', 0.9908609986305237)\n",
      "('self', 0.990808367729187)\n",
      "('level', 0.9902517795562744)\n",
      "('qualify', 0.9902034997940063)\n",
      "('added', 0.9888554215431213)\n",
      "\n",
      "\n",
      "('current', 0.9721826314926147)\n",
      "('streaming', 0.9700711369514465)\n",
      "('putting', 0.9695876240730286)\n",
      "('disconnect', 0.9672117233276367)\n",
      "('cost', 0.9664289355278015)\n",
      "('level', 0.9628883600234985)\n",
      "('self', 0.9607409834861755)\n",
      "('speed', 0.9574105143547058)\n",
      "('secondary', 0.9547523260116577)\n",
      "('added', 0.9523550271987915)\n"
     ]
    }
   ],
   "source": [
    "# Key Words 1 \n",
    "for item in model.wv.most_similar(positive=['package', 'promotion', 'promotional', 'promotions',\n",
    "                                            'offer', 'offering', 'bundle','bundles', 'bundled', \n",
    "                                            'premium', 'premiums']):\n",
    "    print(item)\n",
    "                                \n",
    "print(\"\\n\")\n",
    "\n",
    "for item in model.wv.most_similar(positive=['equipment', 'equipments']): \n",
    "    print(item) \n",
    "                                           \n",
    "                                           "
   ]
  },
  {
   "cell_type": "code",
   "execution_count": null,
   "metadata": {},
   "outputs": [],
   "source": []
  }
 ],
 "metadata": {
  "kernelspec": {
   "display_name": "Python 3",
   "language": "python",
   "name": "python3"
  },
  "language_info": {
   "codemirror_mode": {
    "name": "ipython",
    "version": 3
   },
   "file_extension": ".py",
   "mimetype": "text/x-python",
   "name": "python",
   "nbconvert_exporter": "python",
   "pygments_lexer": "ipython3",
   "version": "3.7.3"
  }
 },
 "nbformat": 4,
 "nbformat_minor": 2
}
